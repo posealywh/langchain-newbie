{
 "cells": [
  {
   "cell_type": "code",
   "execution_count": 4,
   "metadata": {},
   "outputs": [],
   "source": [
    "from langchain.chat_models import ChatOpenAI\n",
    "from langchain.prompts import ChatPromptTemplate\n",
    "from langchain.prompts.few_shot import FewShotChatMessagePromptTemplate\n",
    "from langchain.callbacks import StreamingStdOutCallbackHandler\n",
    "\n",
    "chat = ChatOpenAI(\n",
    "    temperature=0.1,\n",
    "    streaming=True,\n",
    "    callbacks=[\n",
    "        StreamingStdOutCallbackHandler(),\n",
    "    ],\n",
    ")"
   ]
  },
  {
   "cell_type": "code",
   "execution_count": 5,
   "metadata": {},
   "outputs": [
    {
     "name": "stdout",
     "output_type": "stream",
     "text": [
      "Here is what I know about the movie \"300\":\n",
      "- Director: Zack Snyder\n",
      "- Main cast: Gerard Butler, Lena Headey, David Wenham, Dominic West\n",
      "- Budget: $65 million\n",
      "- Box office revenue: $456.1 million\n",
      "- Genre of the movie: Action, War, Fantasy\n",
      "- Synopsis: \"300\" is a stylized retelling of the Battle of Thermopylae, where King Leonidas of Sparta and his 300 warriors fought against the massive Persian army led by King Xerxes. The film showcases the Spartans' bravery, skill in combat, and determination to defend their homeland against overwhelming odds. Known for its visually striking cinematography, slow-motion action sequences, and memorable quotes, \"300\" has become a cult classic in the action genre."
     ]
    },
    {
     "data": {
      "text/plain": [
       "AIMessageChunk(content='Here is what I know about the movie \"300\":\\n- Director: Zack Snyder\\n- Main cast: Gerard Butler, Lena Headey, David Wenham, Dominic West\\n- Budget: $65 million\\n- Box office revenue: $456.1 million\\n- Genre of the movie: Action, War, Fantasy\\n- Synopsis: \"300\" is a stylized retelling of the Battle of Thermopylae, where King Leonidas of Sparta and his 300 warriors fought against the massive Persian army led by King Xerxes. The film showcases the Spartans\\' bravery, skill in combat, and determination to defend their homeland against overwhelming odds. Known for its visually striking cinematography, slow-motion action sequences, and memorable quotes, \"300\" has become a cult classic in the action genre.')"
      ]
     },
     "execution_count": 5,
     "metadata": {},
     "output_type": "execute_result"
    }
   ],
   "source": [
    "examples = [\n",
    "    {\n",
    "        \"movie\": \"harry potter and the sorcerer's stone\",\n",
    "        \"answer\": \"\"\"\n",
    "Here is what I know:\n",
    "director: Chris Columbus\n",
    "main cast: Daniel Radcliffe, Emma Watson, Rupert Grint, Alan Rickman, Robbie Coltrane\n",
    "budget: $125 million\n",
    "box office revenue: $1.007 billion\n",
    "genre of the movie: Fantasy, Adventure\n",
    "a small synopsis: The film follows Harry Potter, an eleven-year-old orphan who discovers that he is a wizard and has been accepted into Hogwarts School of Witchcraft and Wizardry. Harry makes friends and enemies at school, learns about his past and his connection to the dark wizard Voldemort, who wants to become immortal and conquer the wizarding world. With the help of his friends, Harry faces challenges and uncovers the mystery of the Sorcerer's Stone, which grants immortality.\n",
    "\"\"\",\n",
    "    },\n",
    "    {\n",
    "        \"movie\": \"Inception\",\n",
    "        \"answer\": \"\"\"\n",
    "Here is what I know:\n",
    "director: Christopher Nolan\n",
    "main cast: Leonardo DiCaprio, Joseph Gordon-Levitt, Ellen Page, Tom Hardy, Ken Watanabe, Cillian Murphy, Marion Cotillard, Michael Caine\n",
    "budget: $160 million\n",
    "box office revenue: $836 million\n",
    "genre of the movie: Science Fiction, Action, Adventure\n",
    "a small synopsis: Inception centers on Dom Cobb, a skilled thief who specializes in the dangerous art of extraction: stealing valuable secrets from deep within the subconscious during the dream state. Cobb's rare ability has made him a coveted player in the world of corporate espionage but has also cost him everything he loves. Cobb is offered a chance at redemption when he is tasked with planting an idea into someone's mind—a process called inception. If he succeeds, it will be the perfect crime, but a dangerous enemy anticipates Cobb's every move.\n",
    "\"\"\",\n",
    "    },\n",
    "    {\n",
    "        \"movie\": \"The Grand Budapest Hotel\",\n",
    "        \"answer\": \"\"\"\n",
    "Here is what I know:\n",
    "director: Wes Anderson\n",
    "main cast: Ralph Fiennes, F. Murray Abraham, Mathieu Amalric, Adrien Brody, Willem Dafoe, Jeff Goldblum, Harvey Keitel, Jude Law, Bill Murray, Edward Norton, Saoirse Ronan, Jason Schwartzman, Tilda Swinton, Tom Wilkinson, Owen Wilson\n",
    "budget: $25 million\n",
    "box office revenue: $174.8 million\n",
    "genre of the movie: Comedy, Drama\n",
    "a small synopsis: The film recounts the adventures of Gustave H, a legendary concierge at a famous European hotel between the wars, and Zero Moustafa, the lobby boy who becomes his most trusted friend. The story involves the theft and recovery of a priceless Renaissance painting and the battle for an enormous family fortune—all against the backdrop of a suddenly and dramatically changing Continent.\n",
    "\"\"\",\n",
    "    },\n",
    "]\n",
    "\n",
    "\n",
    "example_prompt = ChatPromptTemplate.from_messages(\n",
    "    [\n",
    "        (\"human\", \"Which {movie} do you want to know?\"),\n",
    "        (\"ai\", \"{answer}\"),\n",
    "    ]\n",
    ")\n",
    "\n",
    "example_prompt = FewShotChatMessagePromptTemplate(\n",
    "    example_prompt=example_prompt,\n",
    "    examples=examples,\n",
    ")\n",
    "\n",
    "final_prompt = ChatPromptTemplate.from_messages(\n",
    "    [\n",
    "        (\"system\", \"You are a movie expert\"),\n",
    "        example_prompt,\n",
    "        (\"human\", \"What do you know about {movie}?\"),\n",
    "    ]\n",
    ")\n",
    "\n",
    "chain = final_prompt | chat\n",
    "\n",
    "chain.invoke(\n",
    "    {\n",
    "        \"movie\": \"300\",\n",
    "    }\n",
    ")"
   ]
  }
 ],
 "metadata": {
  "kernelspec": {
   "display_name": "env",
   "language": "python",
   "name": "python3"
  },
  "language_info": {
   "codemirror_mode": {
    "name": "ipython",
    "version": 3
   },
   "file_extension": ".py",
   "mimetype": "text/x-python",
   "name": "python",
   "nbconvert_exporter": "python",
   "pygments_lexer": "ipython3",
   "version": "3.11.8"
  }
 },
 "nbformat": 4,
 "nbformat_minor": 2
}
