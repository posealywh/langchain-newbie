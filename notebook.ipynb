{
 "cells": [
  {
   "cell_type": "code",
   "execution_count": 3,
   "metadata": {},
   "outputs": [],
   "source": [
    "from langchain.chat_models import ChatOpenAI\n",
    "from langchain.prompts import ChatPromptTemplate\n",
    "from langchain.callbacks import StreamingStdOutCallbackHandler\n",
    "\n",
    "chat = ChatOpenAI(\n",
    "    temperature=0.1,\n",
    "    streaming=True,\n",
    "    callbacks=[\n",
    "        StreamingStdOutCallbackHandler(),\n",
    "    ],\n",
    ")"
   ]
  },
  {
   "cell_type": "code",
   "execution_count": 5,
   "metadata": {},
   "outputs": [],
   "source": [
    "poem_prompt = ChatPromptTemplate.from_messages(\n",
    "    [\n",
    "        (\n",
    "            \"system\",\n",
    "            \"You're a poet from the European Middle Ages. Give me a poem about your programming language.\",\n",
    "        ),\n",
    "        (\n",
    "            \"human\",\n",
    "            \"I'm a programmer. Write me a poem about this {language} language.\",\n",
    "        ),\n",
    "    ]\n",
    ")\n",
    "\n",
    "poem_chain = poem_prompt | chat"
   ]
  },
  {
   "cell_type": "code",
   "execution_count": 6,
   "metadata": {},
   "outputs": [
    {
     "name": "stdout",
     "output_type": "stream",
     "text": [
      "In the realm of code, where languages reign,\n",
      "There dwells a serpent, known by name of Python.\n",
      "With syntax sleek and elegance untamed,\n",
      "It slithers through the bytes, a language quite uncommon.\n",
      "\n",
      "Its indentation, like a dance so fine,\n",
      "Guides the flow of logic with a gentle touch.\n",
      "No curly braces or semicolons in line,\n",
      "Just clean and clear, it doesn't ask for much.\n",
      "\n",
      "From web development to data science's art,\n",
      "Python's versatility knows no bound.\n",
      "With libraries aplenty, it plays its part,\n",
      "In every field, its influence is found.\n",
      "\n",
      "So let us raise our keyboards high,\n",
      "And sing the praises of this language grand.\n",
      "For in the world of code, 'neath the digital sky,\n",
      "Python shines bright, a language in demand.This poem is an ode to the programming language Python. The poet describes Python as a serpent in the realm of code, highlighting its sleek syntax and elegance. The poem praises Python for its unique features, such as its use of indentation instead of curly braces and semicolons, which make it clean and clear to read and write.\n",
      "\n",
      "The poet also emphasizes Python's versatility, mentioning its applications in web development and data science. Python is celebrated for its abundance of libraries that make it suitable for various fields. The poem concludes by urging readers to appreciate Python's greatness and its importance in the world of coding."
     ]
    },
    {
     "data": {
      "text/plain": [
       "AIMessageChunk(content=\"This poem is an ode to the programming language Python. The poet describes Python as a serpent in the realm of code, highlighting its sleek syntax and elegance. The poem praises Python for its unique features, such as its use of indentation instead of curly braces and semicolons, which make it clean and clear to read and write.\\n\\nThe poet also emphasizes Python's versatility, mentioning its applications in web development and data science. Python is celebrated for its abundance of libraries that make it suitable for various fields. The poem concludes by urging readers to appreciate Python's greatness and its importance in the world of coding.\")"
      ]
     },
     "execution_count": 6,
     "metadata": {},
     "output_type": "execute_result"
    }
   ],
   "source": [
    "poem_explain_prompt = ChatPromptTemplate.from_messages(\n",
    "    [\n",
    "        (\n",
    "            \"system\",\n",
    "            \"You're a language teacher interpreting a poem. You read it and explain it in a way that makes sense.\",\n",
    "        ),\n",
    "        (\"human\", \"{poem}\"),\n",
    "    ]\n",
    ")\n",
    "\n",
    "poem_explain_chain = poem_explain_prompt | chat\n",
    "\n",
    "final_chain = {\"poem\": poem_chain} | poem_explain_chain\n",
    "\n",
    "final_chain.invoke(\n",
    "    {\n",
    "        \"language\": \"python\",\n",
    "    }\n",
    ")"
   ]
  },
  {
   "cell_type": "markdown",
   "metadata": {},
   "source": []
  }
 ],
 "metadata": {
  "kernelspec": {
   "display_name": "env",
   "language": "python",
   "name": "python3"
  },
  "language_info": {
   "codemirror_mode": {
    "name": "ipython",
    "version": 3
   },
   "file_extension": ".py",
   "mimetype": "text/x-python",
   "name": "python",
   "nbconvert_exporter": "python",
   "pygments_lexer": "ipython3",
   "version": "3.11.8"
  }
 },
 "nbformat": 4,
 "nbformat_minor": 2
}
